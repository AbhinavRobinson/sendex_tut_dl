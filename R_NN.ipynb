{
  "nbformat": 4,
  "nbformat_minor": 0,
  "metadata": {
    "colab": {
      "name": "R-NN.ipynb",
      "version": "0.3.2",
      "provenance": [],
      "collapsed_sections": [],
      "include_colab_link": true
    },
    "kernelspec": {
      "name": "python3",
      "display_name": "Python 3"
    },
    "accelerator": "GPU"
  },
  "cells": [
    {
      "cell_type": "markdown",
      "metadata": {
        "id": "view-in-github",
        "colab_type": "text"
      },
      "source": [
        "<a href=\"https://colab.research.google.com/github/AbhinavRobinson/sentdex_tut_dl/blob/master/R_NN.ipynb\" target=\"_parent\"><img src=\"https://colab.research.google.com/assets/colab-badge.svg\" alt=\"Open In Colab\"/></a>"
      ]
    },
    {
      "cell_type": "code",
      "metadata": {
        "id": "9deKZe_6GOHO",
        "colab_type": "code",
        "outputId": "62b8c110-dd6c-48c7-a62a-5fe80ff55151",
        "colab": {
          "base_uri": "https://localhost:8080/",
          "height": 104
        }
      },
      "source": [
        "# Import main libraries\n",
        "import tensorflow as tf\n",
        "from tensorflow.keras.models import Sequential\n",
        "from tensorflow.keras.layers import Dense, Dropout, CuDNNLSTM\n",
        "\n",
        "# Loading Dataset\n",
        "mnist = tf.keras.datasets.mnist\n",
        "\n",
        "# Slicing the dataset into train and test\n",
        "(x_train, y_train), (x_test, y_test) = mnist.load_data()\n",
        "\n",
        "# Normalizing Data\n",
        "x_train = x_train / 255.0\n",
        "x_test = x_test / 255.0\n",
        "\n",
        "# lets get the shape of the dataset\n",
        "print(x_train.shape)\n",
        "print(x_train[0].shape)"
      ],
      "execution_count": 0,
      "outputs": [
        {
          "output_type": "stream",
          "text": [
            "Downloading data from https://storage.googleapis.com/tensorflow/tf-keras-datasets/mnist.npz\n",
            "11493376/11490434 [==============================] - 0s 0us/step\n",
            "(60000, 28, 28)\n",
            "(28, 28)\n"
          ],
          "name": "stdout"
        }
      ]
    },
    {
      "cell_type": "code",
      "metadata": {
        "id": "boOdIkDuPQ-Z",
        "colab_type": "code",
        "outputId": "637e3af7-11d1-4898-98b9-94d7e7449a14",
        "colab": {
          "base_uri": "https://localhost:8080/",
          "height": 558
        }
      },
      "source": [
        "# Just to make sure Google Colab is using K80 and not CPU (CUDNNLSTM dependency)\n",
        "from tensorflow.python.client import device_lib\n",
        "print(device_lib.list_local_devices())"
      ],
      "execution_count": 0,
      "outputs": [
        {
          "output_type": "stream",
          "text": [
            "[name: \"/device:CPU:0\"\n",
            "device_type: \"CPU\"\n",
            "memory_limit: 268435456\n",
            "locality {\n",
            "}\n",
            "incarnation: 16734125627796413949\n",
            ", name: \"/device:XLA_CPU:0\"\n",
            "device_type: \"XLA_CPU\"\n",
            "memory_limit: 17179869184\n",
            "locality {\n",
            "}\n",
            "incarnation: 17127930880834976566\n",
            "physical_device_desc: \"device: XLA_CPU device\"\n",
            ", name: \"/device:XLA_GPU:0\"\n",
            "device_type: \"XLA_GPU\"\n",
            "memory_limit: 17179869184\n",
            "locality {\n",
            "}\n",
            "incarnation: 6400054780561811164\n",
            "physical_device_desc: \"device: XLA_GPU device\"\n",
            ", name: \"/device:GPU:0\"\n",
            "device_type: \"GPU\"\n",
            "memory_limit: 11330115994\n",
            "locality {\n",
            "  bus_id: 1\n",
            "  links {\n",
            "  }\n",
            "}\n",
            "incarnation: 17589851025127099591\n",
            "physical_device_desc: \"device: 0, name: Tesla K80, pci bus id: 0000:00:04.0, compute capability: 3.7\"\n",
            "]\n"
          ],
          "name": "stdout"
        }
      ]
    },
    {
      "cell_type": "code",
      "metadata": {
        "id": "zj83iphcMM7V",
        "colab_type": "code",
        "outputId": "00511260-2231-492c-e93e-31ab9027b183",
        "colab": {
          "base_uri": "https://localhost:8080/",
          "height": 171
        }
      },
      "source": [
        "model = Sequential()\n",
        "\n",
        "\"\"\"\n",
        "CUDNNLSTM speeds up train time from 5min per epoch \n",
        "to 2mins for entire training! :)\n",
        "Make sure Runtime>Change Runtime>Hardware Acceleration>GPU\n",
        "is enabled :D\n",
        "\n",
        "NOTE:\n",
        "CUDNNLSTM uses its own activation function \"tanh\"\n",
        "\n",
        "Dont train this on your Laptop ;)\n",
        "\"\"\"\n",
        "\n",
        "# Adding a CuDNNLSTM Layer\n",
        "model.add(CuDNNLSTM(128, input_shape=(x_train.shape[1:]), \n",
        "                    return_sequences=True))\n",
        "# Adding a Dropout, \"cos dats wat ya do\"\n",
        "model.add(Dropout(0.2))\n",
        "\n",
        "# Adding the Second CuDNNLSTM Layer\n",
        "model.add(CuDNNLSTM(128))\n",
        "model.add(Dropout(0.2))\n",
        "\n",
        "# Adding Dense Layer\n",
        "model.add(Dense(32, activation='relu'))\n",
        "model.add(Dropout(0.2))\n",
        "\n",
        "# Adding Last Dense Layer, 10 since we have 10 classes\n",
        "model.add(Dense(10, activation='softmax'))\n",
        "# Model Structure Complete\n",
        "\n",
        "# Lets compile\n",
        "# Lets add a customized Adam optimizer, we add Decay to shrink learning rate\n",
        "opt = tf.keras.optimizers.Adam(lr=1e-3, decay=1e-5)\n",
        "model.compile(loss = 'sparse_categorical_crossentropy',\n",
        "              optimizer=opt,\n",
        "              metrics=['accuracy'])\n",
        "\n",
        "# Lets train the model\n",
        "model.fit(x_train, y_train, epochs=3, validation_data=(x_test, y_test))"
      ],
      "execution_count": 0,
      "outputs": [
        {
          "output_type": "stream",
          "text": [
            "Train on 60000 samples, validate on 10000 samples\n",
            "Epoch 1/3\n",
            "60000/60000 [==============================] - 40s 668us/sample - loss: 0.4180 - acc: 0.8727 - val_loss: 0.1709 - val_acc: 0.9481\n",
            "Epoch 2/3\n",
            "60000/60000 [==============================] - 40s 666us/sample - loss: 0.1257 - acc: 0.9668 - val_loss: 0.0887 - val_acc: 0.9748\n",
            "Epoch 3/3\n",
            "60000/60000 [==============================] - 40s 661us/sample - loss: 0.0836 - acc: 0.9773 - val_loss: 0.0630 - val_acc: 0.9819\n"
          ],
          "name": "stdout"
        },
        {
          "output_type": "execute_result",
          "data": {
            "text/plain": [
              "<tensorflow.python.keras.callbacks.History at 0x7f997a7b4e48>"
            ]
          },
          "metadata": {
            "tags": []
          },
          "execution_count": 4
        }
      ]
    },
    {
      "cell_type": "code",
      "metadata": {
        "id": "FCUGPh-lM4yz",
        "colab_type": "code",
        "colab": {}
      },
      "source": [
        ""
      ],
      "execution_count": 0,
      "outputs": []
    }
  ]
}