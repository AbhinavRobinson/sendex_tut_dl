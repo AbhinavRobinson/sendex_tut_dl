{
  "nbformat": 4,
  "nbformat_minor": 0,
  "metadata": {
    "colab": {
      "name": "Sendex_tuts.ipynb",
      "version": "0.3.2",
      "provenance": [],
      "collapsed_sections": [],
      "include_colab_link": true
    },
    "kernelspec": {
      "name": "python3",
      "display_name": "Python 3"
    }
  },
  "cells": [
    {
      "cell_type": "markdown",
      "metadata": {
        "id": "view-in-github",
        "colab_type": "text"
      },
      "source": [
        "<a href=\"https://colab.research.google.com/github/AbhinavRobinson/sendex_tut_dl/blob/master/Sendex_tuts.ipynb\" target=\"_parent\"><img src=\"https://colab.research.google.com/assets/colab-badge.svg\" alt=\"Open In Colab\"/></a>"
      ]
    },
    {
      "cell_type": "code",
      "metadata": {
        "id": "rUmNwoCa3MLE",
        "colab_type": "code",
        "colab": {}
      },
      "source": [
        "# Lets import some libraries we need right now\n",
        "# We have import some libraries afterwards too!\n",
        "import tensorflow as tf\n",
        "tf.__version__\n",
        "\n",
        "# import mnist dataset\n",
        "# 28x28 images of hand-written digits 0-9\n",
        "mnist = tf.keras.datasets.mnist  \n",
        "\n",
        "# Splitting data into train and test\n",
        "(x_train, y_train), (x_test, y_test) = mnist.load_data()\n",
        "\n",
        "# normalizing X data\n",
        "x_train = tf.keras.utils.normalize(x_train, axis=1)\n",
        "x_test = tf.keras.utils.normalize(x_test, axis=1)"
      ],
      "execution_count": 0,
      "outputs": []
    },
    {
      "cell_type": "code",
      "metadata": {
        "id": "iqTE35VOx9vL",
        "colab_type": "code",
        "colab": {
          "base_uri": "https://localhost:8080/",
          "height": 1000
        },
        "outputId": "408c1b71-3d1b-445a-b0f7-318da2ee021c"
      },
      "source": [
        "import matplotlib.pyplot as plt\n",
        "\n",
        "\"\"\" \n",
        "Lets look at the data (first 5) \n",
        "\n",
        ">> We are plotting a tensor\n",
        "\n",
        "NOTE:\n",
        "Note that the image is actually a B/W image\n",
        "but pyplot by default adds color as a function\n",
        "of brightness, use \"cmap = plt.cm.binary\" to \n",
        "plot B/W images \n",
        "\"\"\"\n",
        "for image in x_train[:5]:\n",
        "  plt.imshow(image)\n",
        "  plt.show()"
      ],
      "execution_count": 25,
      "outputs": [
        {
          "output_type": "display_data",
          "data": {
            "image/png": "[encoded data removed]",
            "text/plain": [
              "<Figure size 432x288 with 1 Axes>"
            ]
          },
          "metadata": {
            "tags": []
          }
        },
        {
          "output_type": "display_data",
          "data": {
            "image/png": "[encoded data removed]",
            "text/plain": [
              "<Figure size 432x288 with 1 Axes>"
            ]
          },
          "metadata": {
            "tags": []
          }
        },
        {
          "output_type": "display_data",
          "data": {
            "image/png": "[encoded data removed]",
            "text/plain": [
              "<Figure size 432x288 with 1 Axes>"
            ]
          },
          "metadata": {
            "tags": []
          }
        },
        {
          "output_type": "display_data",
          "data": {
            "image/png": "[encoded data removed]",
            "text/plain": [
              "<Figure size 432x288 with 1 Axes>"
            ]
          },
          "metadata": {
            "tags": []
          }
        },
        {
          "output_type": "display_data",
          "data": {
            "image/png": "[encoded data removed]",
            "text/plain": [
              "<Figure size 432x288 with 1 Axes>"
            ]
          },
          "metadata": {
            "tags": []
          }
        }
      ]
    },
    {
      "cell_type": "code",
      "metadata": {
        "id": "wcFJDBjgpRKh",
        "colab_type": "code",
        "colab": {
          "base_uri": "https://localhost:8080/",
          "height": 154
        },
        "outputId": "258fd14c-7812-4159-b3c3-d632414b40ce"
      },
      "source": [
        "# lets make our model, sequencial type\n",
        "model = tf.keras.models.Sequential()\n",
        "\n",
        "# lets make our tensor \"flat\"\n",
        "model.add(tf.keras.layers.Flatten())\n",
        "\n",
        "# lets make some hidden layers\n",
        "model.add(tf.keras.layers.Dense(128, activation = tf.nn.relu))\n",
        "model.add(tf.keras.layers.Dense(128, activation = tf.nn.relu))\n",
        "\n",
        "# now we use softmax for probability distribution\n",
        "model.add(tf.keras.layers.Dense(128, activation = tf.nn.softmax))\n",
        "\n",
        "# lets train our model\n",
        "model.compile(optimizer='adam',\n",
        "              loss='sparse_categorical_crossentropy',\n",
        "              metrics=['accuracy'])\n",
        "# now we train\n",
        "model.fit(x_train, y_train, epochs=3)"
      ],
      "execution_count": 26,
      "outputs": [
        {
          "output_type": "stream",
          "text": [
            "Epoch 1/3\n",
            "60000/60000 [==============================] - 4s 74us/sample - loss: 0.3226 - acc: 0.9095\n",
            "Epoch 2/3\n",
            "60000/60000 [==============================] - 4s 73us/sample - loss: 0.1222 - acc: 0.9622\n",
            "Epoch 3/3\n",
            "60000/60000 [==============================] - 4s 73us/sample - loss: 0.0817 - acc: 0.9743\n"
          ],
          "name": "stdout"
        },
        {
          "output_type": "execute_result",
          "data": {
            "text/plain": [
              "<tensorflow.python.keras.callbacks.History at 0x7fa396391828>"
            ]
          },
          "metadata": {
            "tags": []
          },
          "execution_count": 26
        }
      ]
    },
    {
      "cell_type": "code",
      "metadata": {
        "id": "hkESUqrg2wwD",
        "colab_type": "code",
        "colab": {
          "base_uri": "https://localhost:8080/",
          "height": 70
        },
        "outputId": "fe0793fb-7cc8-4605-d8d4-25e1cd018e77"
      },
      "source": [
        "# Lets validate our model\n",
        "val_loss, val_acc = model.evaluate(x_test, y_test)\n",
        "print(val_loss, val_acc)\n",
        "# We get a loss of 10.38%\n",
        "# and a accuracy of 96.8%"
      ],
      "execution_count": 27,
      "outputs": [
        {
          "output_type": "stream",
          "text": [
            "10000/10000 [==============================] - 0s 33us/sample - loss: 0.1009 - acc: 0.9703\n",
            "0.10088845176016911 0.9703\n"
          ],
          "name": "stdout"
        }
      ]
    },
    {
      "cell_type": "code",
      "metadata": {
        "id": "k_WIgjK_yZND",
        "colab_type": "code",
        "colab": {}
      },
      "source": [
        "model.save('epic_num_reader.model')"
      ],
      "execution_count": 0,
      "outputs": []
    },
    {
      "cell_type": "code",
      "metadata": {
        "id": "nOJwVH1X3Yxw",
        "colab_type": "code",
        "colab": {}
      },
      "source": [
        "predictions = model.predict([x_test])"
      ],
      "execution_count": 0,
      "outputs": []
    },
    {
      "cell_type": "code",
      "metadata": {
        "id": "LkxcRlgL3eKn",
        "colab_type": "code",
        "colab": {
          "base_uri": "https://localhost:8080/",
          "height": 235
        },
        "outputId": "f8470dc8-3888-4577-9176-0b4dfb1d240d"
      },
      "source": [
        "# we find that predictions is a One-hot-arrays of probabilities\n",
        "print(predictions)"
      ],
      "execution_count": 32,
      "outputs": [
        {
          "output_type": "stream",
          "text": [
            "[[7.3115146e-11 7.3156968e-08 1.9217077e-06 ... 3.1257362e-14\n",
            "  4.0028297e-14 7.2157585e-14]\n",
            " [3.2821237e-07 1.5579305e-03 9.9840337e-01 ... 2.2774272e-11\n",
            "  6.6930636e-12 3.0132116e-12]\n",
            " [2.0755746e-07 9.9968421e-01 1.1953589e-04 ... 9.9078268e-10\n",
            "  1.0250938e-09 3.6850731e-10]\n",
            " ...\n",
            " [4.1703448e-08 1.4483319e-07 3.1514858e-08 ... 4.7364478e-12\n",
            "  1.4595235e-12 1.4145296e-12]\n",
            " [1.3964457e-06 6.4320454e-07 4.9409317e-07 ... 7.2412345e-12\n",
            "  1.0225011e-11 7.8558791e-12]\n",
            " [3.3606073e-05 2.2897611e-06 1.4661265e-06 ... 7.6282132e-12\n",
            "  1.4221619e-11 1.9568850e-11]]\n"
          ],
          "name": "stdout"
        }
      ]
    },
    {
      "cell_type": "code",
      "metadata": {
        "id": "8ugEJSFF4FAe",
        "colab_type": "code",
        "colab": {
          "base_uri": "https://localhost:8080/",
          "height": 34
        },
        "outputId": "62ba42c4-78c8-48d4-e178-1cf826cad305"
      },
      "source": [
        "import numpy as np\n",
        "# we check the predictions for the first element \n",
        "print(np.argmax(predictions[0]))"
      ],
      "execution_count": 33,
      "outputs": [
        {
          "output_type": "stream",
          "text": [
            "7\n"
          ],
          "name": "stdout"
        }
      ]
    },
    {
      "cell_type": "code",
      "metadata": {
        "id": "oIai2iUv4UF2",
        "colab_type": "code",
        "colab": {
          "base_uri": "https://localhost:8080/",
          "height": 269
        },
        "outputId": "a5d2211e-307f-4632-981c-88f685e24e6b"
      },
      "source": [
        "# but now lets see what was the actual \"object\" it just predicated\n",
        "plt.imshow(x_test[0])\n",
        "plt.show()"
      ],
      "execution_count": 34,
      "outputs": [
        {
          "output_type": "display_data",
          "data": {
            "image/png": "[encoded data removed]",
            "text/plain": [
              "<Figure size 432x288 with 1 Axes>"
            ]
          },
          "metadata": {
            "tags": []
          }
        }
      ]
    },
    {
      "cell_type": "code",
      "metadata": {
        "id": "nP1O3smg4hfB",
        "colab_type": "code",
        "colab": {}
      },
      "source": [
        "# Volla! it was a 7 :)"
      ],
      "execution_count": 0,
      "outputs": []
    }
  ]
}