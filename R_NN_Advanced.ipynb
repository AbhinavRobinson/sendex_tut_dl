{
  "nbformat": 4,
  "nbformat_minor": 0,
  "metadata": {
    "colab": {
      "name": "R-NN_Advanced.ipynb",
      "version": "0.3.2",
      "provenance": [],
      "collapsed_sections": [],
      "include_colab_link": true
    },
    "kernelspec": {
      "name": "python3",
      "display_name": "Python 3"
    },
    "accelerator": "GPU"
  },
  "cells": [
    {
      "cell_type": "markdown",
      "metadata": {
        "id": "view-in-github",
        "colab_type": "text"
      },
      "source": [
        "<a href=\"https://colab.research.google.com/github/AbhinavRobinson/sentdex_tut_dl/blob/master/R_NN_Advanced.ipynb\" target=\"_parent\"><img src=\"https://colab.research.google.com/assets/colab-badge.svg\" alt=\"Open In Colab\"/></a>"
      ]
    },
    {
      "cell_type": "code",
      "metadata": {
        "id": "B77c-zcrSAoJ",
        "colab_type": "code",
        "colab": {
          "base_uri": "https://localhost:8080/",
          "height": 222
        },
        "outputId": "3df4279b-44eb-4762-d3cd-a8072a3289df"
      },
      "source": [
        "# Lets obtaian out dataset from sentdex\n",
        "!wget --no-check-certificate \\\n",
        "    https://pythonprogramming.net/static/downloads/machine-learning-data/crypto_data.zip \\\n",
        "    -O /tmp/crypto_data.zip"
      ],
      "execution_count": 3,
      "outputs": [
        {
          "output_type": "stream",
          "text": [
            "--2019-08-29 16:56:56--  https://pythonprogramming.net/static/downloads/machine-learning-data/crypto_data.zip\n",
            "Resolving pythonprogramming.net (pythonprogramming.net)... 104.237.143.20, 2600:3c00::f03c:91ff:fe84:176d\n",
            "Connecting to pythonprogramming.net (pythonprogramming.net)|104.237.143.20|:443... connected.\n",
            "HTTP request sent, awaiting response... 200 OK\n",
            "Length: 5998694 (5.7M) [application/zip]\n",
            "Saving to: ‘/tmp/crypto_data.zip’\n",
            "\n",
            "/tmp/crypto_data.zi 100%[===================>]   5.72M  5.21MB/s    in 1.1s    \n",
            "\n",
            "2019-08-29 16:56:58 (5.21 MB/s) - ‘/tmp/crypto_data.zip’ saved [5998694/5998694]\n",
            "\n"
          ],
          "name": "stdout"
        }
      ]
    },
    {
      "cell_type": "code",
      "metadata": {
        "id": "MlfcgqpzSE8r",
        "colab_type": "code",
        "colab": {}
      },
      "source": [
        "import os\n",
        "import zipfile\n",
        "\n",
        "# This code is meant to run on google colab\n",
        "local_zip = '/tmp/crypto_data.zip'\n",
        "zip_ref = zipfile.ZipFile(local_zip, 'r')\n",
        "zip_ref.extractall('/content')\n",
        "zip_ref.close()"
      ],
      "execution_count": 0,
      "outputs": []
    },
    {
      "cell_type": "code",
      "metadata": {
        "id": "p86S0AFWS5Uu",
        "colab_type": "code",
        "colab": {
          "base_uri": "https://localhost:8080/",
          "height": 168
        },
        "outputId": "bd3b8d70-b1d3-403d-e519-c767b171161a"
      },
      "source": [
        "import pandas as pd\n",
        "\n",
        "# Lets check the data :)\n",
        "main_df = pd.DataFrame()\n",
        "\n",
        "# Lets combine all data in one dataframe\n",
        "ratios = [\"BTC-USD\",\"LTC-USD\",\"ETH-USD\",\"BCH-USD\"]\n",
        "for ratio in ratios:\n",
        "  dataset = f\"crypto_data/{ratio}.csv\"\n",
        "  df = pd.read_csv(dataset,  \n",
        "                   names=[\"time\",\"low\",\"high\",\"open\",\"close\",\"volume\"])\n",
        "\n",
        "  df.rename(columns={\"close\": f\"{ratio}_close\", \n",
        "                     \"volume\": f\"{ratio}_volume\"}, \n",
        "            inplace=True)\n",
        "  df.set_index(\"time\",inplace=True)\n",
        "  df = df[[f\"{ratio}_close\",f\"{ratio}_volume\"]]\n",
        "\n",
        "  if len(main_df) == 0:\n",
        "    main_df = df\n",
        "  else:\n",
        "    main_df = main_df.join(df)\n",
        "\n",
        "# testing data\n",
        "print(main_df.head())"
      ],
      "execution_count": 14,
      "outputs": [
        {
          "output_type": "stream",
          "text": [
            "            BTC-USD_close  BTC-USD_volume  ...  BCH-USD_close  BCH-USD_volume\n",
            "time                                       ...                               \n",
            "1528968660    6489.549805        0.587100  ...     871.719971        5.675361\n",
            "1528968720    6487.379883        7.706374  ...     870.859985       26.856577\n",
            "1528968780    6479.410156        3.088252  ...     870.099976        1.124300\n",
            "1528968840    6479.410156        1.404100  ...     870.789978        1.749862\n",
            "1528968900    6479.979980        0.753000  ...     870.000000        1.680500\n",
            "\n",
            "[5 rows x 8 columns]\n"
          ],
          "name": "stdout"
        }
      ]
    },
    {
      "cell_type": "code",
      "metadata": {
        "id": "mp5Wh-r6XQ9s",
        "colab_type": "code",
        "colab": {}
      },
      "source": [
        "import time\n",
        "# Now we define some time variables\n",
        "# Based on last 60 mins\n",
        "SEQ_LEN = 60\n",
        "# We predict next 3\n",
        "FUTURE_PERIOD_PREDICT = 3\n",
        "# on the LTC-USD (LiteCoin)\n",
        "RATIO_TO_PREDICT = \"LTC-USD\"\n",
        "# Defining no. of EPOCHS\n",
        "EPOCHS = 10\n",
        "# Defining Batch Size\n",
        "BATCH_SIZE = 64\n",
        "# Adding Names\n",
        "NAME = f\"{SEQ_LEN}-SEQ-{FUTURE_PERIOD_PREDICT}-PRED-{int(time.time())}\""
      ],
      "execution_count": 0,
      "outputs": []
    },
    {
      "cell_type": "code",
      "metadata": {
        "id": "xxfaofG4X0Fy",
        "colab_type": "code",
        "colab": {}
      },
      "source": [
        "def classify(current, future):\n",
        "  # aka, good thing, buy\n",
        "  if float(future) > float(current): return 1\n",
        "  # not a good thing, maybe? ;)\n",
        "  else: return 0"
      ],
      "execution_count": 0,
      "outputs": []
    },
    {
      "cell_type": "code",
      "metadata": {
        "id": "DMk3glsiYIcd",
        "colab_type": "code",
        "colab": {
          "base_uri": "https://localhost:8080/",
          "height": 134
        },
        "outputId": "f608ab1d-b658-4cca-a5f9-f7e57199dd23"
      },
      "source": [
        "# Lets add future price as a column\n",
        "main_df['future'] = main_df[f\"{RATIO_TO_PREDICT}_close\"].shift(-FUTURE_PERIOD_PREDICT)\n",
        "print(main_df[[f\"{RATIO_TO_PREDICT}_close\", \"future\"]].head())"
      ],
      "execution_count": 20,
      "outputs": [
        {
          "output_type": "stream",
          "text": [
            "            LTC-USD_close     future\n",
            "time                                \n",
            "1528968660      96.580002  96.500000\n",
            "1528968720      96.660004  96.389999\n",
            "1528968780      96.570000  96.519997\n",
            "1528968840      96.500000  96.440002\n",
            "1528968900      96.389999  96.470001\n"
          ],
          "name": "stdout"
        }
      ]
    },
    {
      "cell_type": "code",
      "metadata": {
        "id": "kTBM1bn7Ycmg",
        "colab_type": "code",
        "colab": {
          "base_uri": "https://localhost:8080/",
          "height": 218
        },
        "outputId": "f41be546-5978-4d05-8c7a-b03d075f902c"
      },
      "source": [
        "# add output of classify to a list shown as a column\n",
        "main_df['target'] = list(map(classify, \n",
        "                             main_df[f\"{RATIO_TO_PREDICT}_close\"],\n",
        "                             main_df[\"future\"]))\n",
        "\n",
        "print(main_df[[f\"{RATIO_TO_PREDICT}_close\", \"future\", \"target\"]].head(10))"
      ],
      "execution_count": 24,
      "outputs": [
        {
          "output_type": "stream",
          "text": [
            "            LTC-USD_close     future  target\n",
            "time                                        \n",
            "1528968660      96.580002  96.500000       0\n",
            "1528968720      96.660004  96.389999       0\n",
            "1528968780      96.570000  96.519997       0\n",
            "1528968840      96.500000  96.440002       0\n",
            "1528968900      96.389999  96.470001       1\n",
            "1528968960      96.519997  96.400002       0\n",
            "1528969020      96.440002  96.400002       0\n",
            "1528969080      96.470001  96.400002       0\n",
            "1528969140      96.400002  96.400002       0\n",
            "1528969200      96.400002  96.400002       0\n"
          ],
          "name": "stdout"
        }
      ]
    },
    {
      "cell_type": "code",
      "metadata": {
        "id": "Yu5zSvPsZtCl",
        "colab_type": "code",
        "colab": {}
      },
      "source": [
        "# Noramlly data is sorted, but just in case\n",
        "# .values converts index values to numpy array\n",
        "times = sorted(main_df.index.values)\n",
        "# now we seperate the last 5% data for test data\n",
        "# last_5pct is a unix timestamp\n",
        "last_5pct = times[-int(0.05*len(times))]\n",
        "\n",
        "# Now we split the data\n",
        "validation_main_df = main_df[(main_df.index >= last_5pct)]\n",
        "main_df = main_df[(main_df.index < last_5pct)]"
      ],
      "execution_count": 0,
      "outputs": []
    },
    {
      "cell_type": "code",
      "metadata": {
        "id": "Prh5uTDCcsTQ",
        "colab_type": "code",
        "colab": {}
      },
      "source": [
        "# Import some more libraries ;_;\n",
        "from sklearn import preprocessing\n",
        "from collections import deque\n",
        "import random\n",
        "import numpy as np\n",
        "\n",
        "# Preprocess DF to scale all values of diff. coins on one scale\n",
        "# and add percent change\n",
        "def preprocess_df(df):\n",
        "  df = df.drop('future',1)\n",
        "\n",
        "  for col in df.columns:\n",
        "    if col != 'target':\n",
        "      df[col] = df[col].pct_change()\n",
        "      df.dropna(inplace=True)\n",
        "      df[col] = preprocessing.scale(df[col].values)\n",
        "\n",
        "  df.dropna(inplace=True)\n",
        "\n",
        "  sequential_data = []\n",
        "  prev_days = deque(maxlen = SEQ_LEN)\n",
        "  print(df.head())\n",
        "\n",
        "  for i in df.values:\n",
        "    prev_days.append([n for n in i[:-1]]) \n",
        "    if len(prev_days) == SEQ_LEN:\n",
        "      sequential_data.append([np.array(prev_days), i[-1]])\n",
        "\n",
        "  random.shuffle(sequential_data)\n",
        "\n",
        "  buys = []\n",
        "  sells = []\n",
        "\n",
        "  for seq, target, in sequential_data:\n",
        "    if target == 0:\n",
        "      sells.append([seq, target])\n",
        "    elif target == 1:\n",
        "      buys.append([seq, target])\n",
        "\n",
        "  random.shuffle(buys)\n",
        "  random.shuffle(sells)\n",
        "\n",
        "  lower = min(len(buys), len(sells))\n",
        "\n",
        "  # Upto 30K\n",
        "  buys = buys[:lower]\n",
        "  sells = sells[:lower]\n",
        "\n",
        "  sequential_data = buys+sells\n",
        "  random.shuffle(sequential_data)\n",
        "\n",
        "  X = []\n",
        "  y = []\n",
        "\n",
        "  for seq,target in sequential_data:\n",
        "    X.append(seq)\n",
        "    y.append(target)\n",
        "\n",
        "  return np.array(X), y"
      ],
      "execution_count": 0,
      "outputs": []
    },
    {
      "cell_type": "code",
      "metadata": {
        "id": "tu5rLOfGb-mt",
        "colab_type": "code",
        "colab": {
          "base_uri": "https://localhost:8080/",
          "height": 319
        },
        "outputId": "5111bd53-43a9-4023-e722-e76b804df7dd"
      },
      "source": [
        "train_x , train_y = preprocess_df(main_df)\n",
        "validation_x , validation_y = preprocess_df(validation_main_df)"
      ],
      "execution_count": 35,
      "outputs": [
        {
          "output_type": "stream",
          "text": [
            "            BTC-USD_close  BTC-USD_volume  ...  BCH-USD_volume  target\n",
            "time                                       ...                        \n",
            "1528969140      -0.002513       -0.078919  ...       -0.006217       0\n",
            "1528969200      -0.229992        0.003410  ...       -0.005884       0\n",
            "1528969260      -0.000830       -0.074039  ...       -0.006200       1\n",
            "1528969320       0.116299       -0.049626  ...       -0.005898       1\n",
            "1528969380       0.000937       -0.082052  ...       -0.006206       0\n",
            "\n",
            "[5 rows x 9 columns]\n",
            "            BTC-USD_close  BTC-USD_volume  ...  BCH-USD_volume  target\n",
            "time                                       ...                        \n",
            "1534922700       0.001843       -0.214831  ...       -0.116887       0\n",
            "1534922760      -0.132096       -0.221802  ...        0.024271       0\n",
            "1534922820      -0.219057       -0.272547  ...       -0.115852       0\n",
            "1534922880       0.003610       -0.278621  ...       -0.116272       0\n",
            "1534923180       0.003610        0.464371  ...       -0.110457       1\n",
            "\n",
            "[5 rows x 9 columns]\n"
          ],
          "name": "stdout"
        }
      ]
    },
    {
      "cell_type": "code",
      "metadata": {
        "id": "jLWeiQRkiEGh",
        "colab_type": "code",
        "colab": {
          "base_uri": "https://localhost:8080/",
          "height": 67
        },
        "outputId": "123a1ff7-8a05-496d-a271-53e44b95ae95"
      },
      "source": [
        "print(f\"train data: {len(train_x)} validation: {len(validation_x)}\")\n",
        "print(f\"Dont Buys : {train_y.count(0)}, buys: {train_y.count(1)}\")\n",
        "print(f\"VALIDATION Dont Buys: {validation_y.count(0)}, buys: {validation_y.count(1)}\")"
      ],
      "execution_count": 36,
      "outputs": [
        {
          "output_type": "stream",
          "text": [
            "train data: 69188 validation: 3062\n",
            "Dont Buys : 34594, buys: 34594\n",
            "VALIDATION Dont Buys: 1531, buys: 1531\n"
          ],
          "name": "stdout"
        }
      ]
    },
    {
      "cell_type": "code",
      "metadata": {
        "id": "DQ_gLPfai2dv",
        "colab_type": "code",
        "colab": {}
      },
      "source": [
        "import tensorflow as tf\n",
        "from tensorflow.keras.models import Sequential\n",
        "from tensorflow.keras.layers import Dense, Dropout, CuDNNLSTM, BatchNormalization\n",
        "from tensorflow.keras.callbacks import TensorBoard, ModelCheckpoint"
      ],
      "execution_count": 0,
      "outputs": []
    },
    {
      "cell_type": "code",
      "metadata": {
        "id": "t8VmFkjFmPSC",
        "colab_type": "code",
        "colab": {
          "base_uri": "https://localhost:8080/",
          "height": 390
        },
        "outputId": "846e64c1-a211-47ad-bd24-261a6dfa661e"
      },
      "source": [
        "model = Sequential()\n",
        "\n",
        "model.add(CuDNNLSTM(128, \n",
        "                    input_shape=(train_x.shape[1:]), \n",
        "                    return_sequences=True))\n",
        "model.add(Dropout(0.2))\n",
        "model.add(BatchNormalization())\n",
        "\n",
        "model.add(CuDNNLSTM(128, \n",
        "                    input_shape=(train_x.shape[1:]), \n",
        "                    return_sequences=True))\n",
        "model.add(Dropout(0.1))\n",
        "model.add(BatchNormalization())\n",
        "\n",
        "model.add(CuDNNLSTM(128, input_shape=(train_x.shape[1:])))\n",
        "model.add(Dropout(0.2))\n",
        "model.add(BatchNormalization())\n",
        "\n",
        "model.add(Dense(32, activation='relu'))\n",
        "model.add(Dropout(0.2))\n",
        "\n",
        "model.add(Dense(2, activation='softmax'))\n",
        "\n",
        "opt = tf.keras.optimizers.Adam(lr=0.001, decay=1e-6)\n",
        "\n",
        "model.compile(loss='sparse_categorical_crossentropy',\n",
        "              optimizer= opt,\n",
        "              metrics=['accuracy'])\n",
        "\n",
        "tensorboard = TensorBoard(log_dir=f'logs/{NAME}')\n",
        "\n",
        "filepath = \"RNN_Final-{epoch:02d}-{val_acc: .3f}\"\n",
        "checkpoint = ModelCheckpoint(\"models/{}.model\".format(filepath, \n",
        "                                                      monitor= 'val_acc',\n",
        "                                                      verbose=1,\n",
        "                                                      save_best_only = True,\n",
        "                                                      mode='max'))\n",
        "\n",
        "history = model.fit(\n",
        "    train_x, train_y,\n",
        "    batch_size= BATCH_SIZE,\n",
        "    epochs=EPOCHS,\n",
        "    validation_data=(validation_x,validation_y),\n",
        "    callbacks=[tensorboard,checkpoint]\n",
        ")"
      ],
      "execution_count": 44,
      "outputs": [
        {
          "output_type": "stream",
          "text": [
            "Train on 69188 samples, validate on 3062 samples\n",
            "Epoch 1/10\n",
            "69188/69188 [==============================] - 70s 1ms/sample - loss: 0.7124 - acc: 0.5159 - val_loss: 0.6866 - val_acc: 0.5483\n",
            "Epoch 2/10\n",
            "69188/69188 [==============================] - 68s 982us/sample - loss: 0.6869 - acc: 0.5471 - val_loss: 0.6847 - val_acc: 0.5454\n",
            "Epoch 3/10\n",
            "69188/69188 [==============================] - 68s 981us/sample - loss: 0.6834 - acc: 0.5609 - val_loss: 0.6793 - val_acc: 0.5653\n",
            "Epoch 4/10\n",
            "69188/69188 [==============================] - 68s 981us/sample - loss: 0.6824 - acc: 0.5602 - val_loss: 0.6791 - val_acc: 0.5650\n",
            "Epoch 5/10\n",
            "69188/69188 [==============================] - 68s 982us/sample - loss: 0.6811 - acc: 0.5638 - val_loss: 0.6763 - val_acc: 0.5604\n",
            "Epoch 6/10\n",
            "69188/69188 [==============================] - 68s 981us/sample - loss: 0.6796 - acc: 0.5690 - val_loss: 0.6883 - val_acc: 0.5490\n",
            "Epoch 7/10\n",
            "69188/69188 [==============================] - 68s 980us/sample - loss: 0.6784 - acc: 0.5706 - val_loss: 0.6734 - val_acc: 0.5728\n",
            "Epoch 8/10\n",
            "69188/69188 [==============================] - 68s 981us/sample - loss: 0.6755 - acc: 0.5780 - val_loss: 0.6762 - val_acc: 0.5660\n",
            "Epoch 9/10\n",
            "69188/69188 [==============================] - 68s 990us/sample - loss: 0.6726 - acc: 0.5851 - val_loss: 0.6739 - val_acc: 0.5709\n",
            "Epoch 10/10\n",
            "69188/69188 [==============================] - 68s 981us/sample - loss: 0.6684 - acc: 0.5891 - val_loss: 0.6798 - val_acc: 0.5673\n"
          ],
          "name": "stdout"
        }
      ]
    },
    {
      "cell_type": "code",
      "metadata": {
        "id": "7Tx85ruHpup8",
        "colab_type": "code",
        "colab": {}
      },
      "source": [
        "!mkdir models"
      ],
      "execution_count": 0,
      "outputs": []
    },
    {
      "cell_type": "code",
      "metadata": {
        "id": "Mj3wh8o0uj5E",
        "colab_type": "code",
        "colab": {}
      },
      "source": [
        "# We import matplotlib and create a function to plot history\n",
        "import matplotlib.pyplot as plt\n",
        "\n",
        "def plot_history(histories, key='acc'):\n",
        "  plt.figure(figsize=(16,10))\n",
        "\n",
        "  for name, history in histories:\n",
        "    val = plt.plot(history.epoch, history.history['val_'+key],\n",
        "                   '--', label=name.title()+' Val')\n",
        "    plt.plot(history.epoch, history.history[key], color=val[0].get_color(),\n",
        "             label=name.title()+' Train')\n",
        "\n",
        "  plt.xlabel('Epochs')\n",
        "  plt.ylabel(key.replace('_',' ').title())\n",
        "  plt.legend()\n",
        "\n",
        "  plt.xlim([0,max(history.epoch)])"
      ],
      "execution_count": 0,
      "outputs": []
    },
    {
      "cell_type": "code",
      "metadata": {
        "id": "BE0Nr_YarBGA",
        "colab_type": "code",
        "colab": {
          "base_uri": "https://localhost:8080/",
          "height": 629
        },
        "outputId": "da3de3bf-21da-4d28-aa34-0a1b6c95105c"
      },
      "source": [
        "plot_history([('Model History',history)])"
      ],
      "execution_count": 52,
      "outputs": [
        {
          "output_type": "display_data",
          "data": {
            "image/png": "[encoded data removed]",
            "text/plain": [
              "<Figure size 1152x720 with 1 Axes>"
            ]
          },
          "metadata": {
            "tags": []
          }
        }
      ]
    },
    {
      "cell_type": "code",
      "metadata": {
        "id": "p84ofFQvuebu",
        "colab_type": "code",
        "colab": {}
      },
      "source": [
        "# This Model is for Educational Use Only.\n",
        "# Dont bet on the basis of this.\n",
        "# KTHXBYE.\n",
        "#         -- Abhinav Robinson ;)"
      ],
      "execution_count": 0,
      "outputs": []
    }
  ]
}